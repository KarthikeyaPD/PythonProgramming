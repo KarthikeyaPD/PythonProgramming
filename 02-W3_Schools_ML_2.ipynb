{
 "cells": [
  {
   "cell_type": "code",
   "execution_count": 8,
   "metadata": {},
   "outputs": [],
   "source": [
    "import numpy as np"
   ]
  },
  {
   "cell_type": "code",
   "execution_count": 9,
   "metadata": {},
   "outputs": [
    {
     "name": "stdout",
     "output_type": "stream",
     "text": [
      "Standard deviation 0.9035079029052513\n",
      "Variance 0.8163265306122449\n"
     ]
    }
   ],
   "source": [
    "speed_1 = [86,87,88,86,87,85,86]\n",
    "x_std = np.std(speed_1)\n",
    "x_var = np.var(speed_1)\n",
    "print('Standard deviation',x_std)\n",
    "print('Variance',x_var)"
   ]
  },
  {
   "cell_type": "code",
   "execution_count": 10,
   "metadata": {},
   "outputs": [
    {
     "name": "stdout",
     "output_type": "stream",
     "text": [
      "Standard deviation 37.84501153334721\n",
      "Variance 1432.2448979591834\n"
     ]
    }
   ],
   "source": [
    "speed_2 = [32,111,138,28,59,77,97]\n",
    "y_std = np.std(speed_2)\n",
    "y_var = np.var(speed_2)\n",
    "print('Standard deviation',y_std)\n",
    "print('Variance',y_var)"
   ]
  }
 ],
 "metadata": {
  "kernelspec": {
   "display_name": "base",
   "language": "python",
   "name": "python3"
  },
  "language_info": {
   "codemirror_mode": {
    "name": "ipython",
    "version": 3
   },
   "file_extension": ".py",
   "mimetype": "text/x-python",
   "name": "python",
   "nbconvert_exporter": "python",
   "pygments_lexer": "ipython3",
   "version": "3.12.4"
  }
 },
 "nbformat": 4,
 "nbformat_minor": 2
}

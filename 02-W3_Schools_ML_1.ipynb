{
 "cells": [
  {
   "cell_type": "markdown",
   "metadata": {},
   "source": [
    "Machine learning is used for analysing data and predicting the outcome.\n",
    "\n",
    "There are three different types of datasets:\n",
    "1) Numerical\n",
    "2) Categorical \n",
    "3) Ordinal"
   ]
  },
  {
   "cell_type": "code",
   "execution_count": 14,
   "metadata": {},
   "outputs": [],
   "source": [
    "import numpy as np\n",
    "from scipy import stats as sp"
   ]
  },
  {
   "cell_type": "markdown",
   "metadata": {},
   "source": [
    "NumPy method: mean, median\n",
    "\n",
    "SciPy method: mode"
   ]
  },
  {
   "cell_type": "code",
   "execution_count": 15,
   "metadata": {},
   "outputs": [
    {
     "name": "stdout",
     "output_type": "stream",
     "text": [
      "x = 89.8\n",
      "y = 87.0\n"
     ]
    }
   ],
   "source": [
    "speed = [99,86,87,88,111,86,103,87,94,78,77,85,86]\n",
    "x = np.mean(speed)\n",
    "print('x =',round(x,1))\n",
    "\n",
    "y = np.median(speed)\n",
    "print('y =', round(y,1))"
   ]
  },
  {
   "cell_type": "code",
   "execution_count": 16,
   "metadata": {},
   "outputs": [
    {
     "name": "stdout",
     "output_type": "stream",
     "text": [
      "z = 87.0\n",
      "ModeResult(mode=86, count=3)\n"
     ]
    }
   ],
   "source": [
    "speed_2 = [99,86,87,88,111,86,103,87,94,78,77,85,86]\n",
    "z = np.median(speed_2)\n",
    "print('z =', round(z,1))\n",
    "\n",
    "mode_data = sp.mode(speed_2)\n",
    "print(mode_data)"
   ]
  }
 ],
 "metadata": {
  "kernelspec": {
   "display_name": "base",
   "language": "python",
   "name": "python3"
  },
  "language_info": {
   "codemirror_mode": {
    "name": "ipython",
    "version": 3
   },
   "file_extension": ".py",
   "mimetype": "text/x-python",
   "name": "python",
   "nbconvert_exporter": "python",
   "pygments_lexer": "ipython3",
   "version": "3.12.4"
  }
 },
 "nbformat": 4,
 "nbformat_minor": 2
}
